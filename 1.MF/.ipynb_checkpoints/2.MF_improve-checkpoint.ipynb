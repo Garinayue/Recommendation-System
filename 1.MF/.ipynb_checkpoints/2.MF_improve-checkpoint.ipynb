{
 "cells": [
  {
   "cell_type": "markdown",
   "metadata": {},
   "source": [
    "# 内容说明\n",
    "背景：之前自己手动实现 MF 算法的整个过程，便于掌握 MF 算法的基本原理，但是运行速度非常缓慢  \n",
    "目的：希望在掌握原理之后借用Pytorch中的已有库，同时采取改进措施优化时间性能  \n",
    "改进方向：  \n",
    "1. 分batch，同一个batch可以并行计算，极大改善时间性能\n",
    "2. 调用Pytorch中自带的优化器  \n",
    "3. 减少对df文件以及评分矩阵的遍历，尽可能改善时间性能"
   ]
  },
  {
   "cell_type": "code",
   "execution_count": 1,
   "metadata": {
    "collapsed": true
   },
   "outputs": [],
   "source": [
    "import pandas as pd\n",
    "import numpy as np\n",
    "import torch\n",
    "import torch.nn as nn\n",
    "import torch.optim as optim\n",
    "from sklearn.metrics import mean_absolute_error, mean_squared_error"
   ]
  },
  {
   "cell_type": "markdown",
   "metadata": {},
   "source": [
    "## 1. 编写MF类\n",
    "1. init(): 初始化各个参数，传入类的参数包括学习率lr, L2系数lmbda, 嵌入维数embed_size， 批大小batch_size。除此之外，类的私有属性还有：训练文件df_train，测试文件df_test，训练评分矩阵R_train，测试评分矩阵R_test，参数矩阵P和Q，偏置mu, bu和bi。  \n",
    "2. preprocess(df, ratio_train): 参数为文件df以及训练集所占比例ratio_train。首先，划分训练与测试数据；其次，根据df文件，获取n_P和n_Q值，便于根据这个维度初始化各个变量与矩阵；计算mu值。  \n",
    "3. generate_train_batch(): 生成批训练集，得到每一批数据中user和item对应的编号矩阵，同时可以填充R_train矩阵  \n",
    "4. train(): 多次迭代训练，优化参数  \n",
    "5. performance(): 计算RMSE和MAE的值"
   ]
  },
  {
   "cell_type": "code",
   "execution_count": 2,
   "metadata": {
    "collapsed": true
   },
   "outputs": [],
   "source": [
    "class MF():\n",
    "    \n",
    "    # 初始化参数\n",
    "    def __init__(self, lr=0.005, lmbda=0.05, embed_size=10, batch_size=2000):\n",
    "        \n",
    "        # 常用参数\n",
    "        self.lr = lr\n",
    "        self.lmbda = lmbda\n",
    "        self.embed_size = embed_size\n",
    "        self.batch_size = batch_size\n",
    "        \n",
    "        # 训练测试的df文件与评分矩阵\n",
    "        self.df_train = None\n",
    "        self.df_test = None\n",
    "        self.R_train = None\n",
    "        self.R_test = None\n",
    "\n",
    "        # user和item的参数矩阵\n",
    "        self.P = None\n",
    "        self.Q = None\n",
    "        \n",
    "        # 三种偏置\n",
    "        self.mu = 0\n",
    "        self.bu = None\n",
    "        self.bi = None\n",
    "    \n",
    "    \n",
    "    # 读取文件，划分训练测试集，完善初始化参数\n",
    "    def preprocess(self, df, ratio_train):\n",
    "        # 划分数据\n",
    "        n_train = int(ratio_train * df.shape[0])\n",
    "        self.df_train = df[:n_train]\n",
    "        self.df_test = df[n_train:df.shape[0]]\n",
    "        \n",
    "        # 获取n_P, n_Q值，计算mu值\n",
    "        n_P = df['user_id:token'].max() + 1\n",
    "        n_Q = df['item_id:token'].max() + 1\n",
    "        self.mu = self.df_train['rating:float'].sum(axis=0) / self.df_train.shape[0]\n",
    "        print('n_P = %d, n_Q = %d, mu = %.4f' % (n_P, n_Q, self.mu))\n",
    "        \n",
    "        # 补充初始化\n",
    "        self.R_train = torch.zeros(n_P, n_Q)\n",
    "        self.R_test = torch.zeros(n_P, n_Q)\n",
    "        self.P = nn.Parameter(torch.empty(n_P, self.embed_size))\n",
    "        self.Q = nn.Parameter(torch.empty(n_Q, self.embed_size))\n",
    "        self.bu = nn.Parameter(torch.empty(n_P, 1))\n",
    "        self.bi = nn.Parameter(torch.empty(n_Q, 1))\n",
    "        nn.init.xavier_normal_(self.P.data)\n",
    "        nn.init.xavier_normal_(self.Q.data)\n",
    "        nn.init.xavier_normal_(self.bu.data)\n",
    "        nn.init.xavier_normal_(self.bi.data)\n",
    "        \n",
    "    \n",
    "    # 生成批训练集的 u, i索引，同时填充评分矩阵R_train\n",
    "    def generate_train_batch(self):\n",
    "        n_train = self.df_train.shape[0]\n",
    "        n_batch = n_train // self.batch_size\n",
    "        \n",
    "        # 针对每个batch，分别生成user和item索引\n",
    "        for k in range(n_batch):\n",
    "            u_batch = []\n",
    "            i_batch = []\n",
    "            df_batch = self.df_train[k*self.batch_size: (k+1)*self.batch_size]\n",
    "            for index, row in df_batch.iterrows():\n",
    "                u = row['user_id:token']\n",
    "                i = row['item_id:token']\n",
    "                rui = row['rating:float']\n",
    "                u_batch.append(u)\n",
    "                i_batch.append(i)\n",
    "                self.R_train[u][i] = rui  # 填充评分矩阵\n",
    "            yield np.asarray(u_batch), np.asarray(i_batch)\n",
    "    \n",
    "    \n",
    "    # 迭代训练，优化参数\n",
    "    def train(self, epochs):\n",
    "        # 定义优化器\n",
    "        optimizer = optim.Adam([self.P, self.Q, self.bu, self.bi], lr=self.lr)\n",
    "        print(\"\\nstart training......\")\n",
    "        \n",
    "        # 多次迭代\n",
    "        for k in range(epochs):\n",
    "            sum_loss = 0\n",
    "            # 针对每个小batch\n",
    "            for u_batch, i_batch in self.generate_train_batch():\n",
    "                pu = self.P[u_batch, :]\n",
    "                qi = self.Q[i_batch, :]\n",
    "                rui = self.R_train[u_batch, i_batch]  # 真实评分\n",
    "                rui_pred = torch.mul(pu, qi).sum(dim=1) + self.bu[u_batch].sum(dim=1) + self.bi[i_batch].sum(dim=1) + self.mu\n",
    "                # 计算误差\n",
    "                square = (rui-rui_pred).pow(2).sum()\n",
    "                L2 = self.lmbda * (pu.norm(dim=1).pow(2).sum() + qi.norm(dim=1).pow(2).sum() + self.bu.norm(dim=0).pow(2) + self.bi.norm(dim=0).pow(2))\n",
    "                loss = square + L2\n",
    "                sum_loss += loss\n",
    "                # 优化参数\n",
    "                optimizer.zero_grad()\n",
    "                loss.backward()\n",
    "                optimizer.step()\n",
    "            # 输出均差，评估性能\n",
    "            avg_loss = sum_loss/self.df_train.shape[0]\n",
    "            rmse, mae = self.performance()\n",
    "            print('epoch %d：avg_loss = %.4f;   RMSE =  %.4f, MAE = %.4f' % (k+1, avg_loss, rmse, mae))\n",
    "    \n",
    "    \n",
    "    # 评估性能RMSE和MAE\n",
    "    def performance(self):\n",
    "        u_test = []\n",
    "        i_test = []\n",
    "        \n",
    "        # 遍历测试数据，记录user和item索引，填充评分矩阵\n",
    "        for index, row in self.df_test.iterrows():\n",
    "            u = row['user_id:token']\n",
    "            i = row['item_id:token']\n",
    "            rui = row['rating:float']\n",
    "            u_test.append(u)\n",
    "            i_test.append(i)\n",
    "            self.R_test[u][i] = rui\n",
    "        \n",
    "        # 提取user和item向量\n",
    "        u_test = np.asarray(u_test)\n",
    "        i_test = np.asarray(i_test)\n",
    "        pu = self.P[u_test, :]\n",
    "        qi = self.Q[i_test, :]\n",
    "        \n",
    "        # 获取真实评分并计算预测评分\n",
    "        rui = self.R_test[u_test, i_test]  # 真实评分\n",
    "        rui_pred = torch.mul(pu, qi).sum(dim=1) + self.bu[u_test].sum(dim=1) + self.bi[i_test].sum(dim=1) + self.mu\n",
    "        \n",
    "        # 计算性能指标\n",
    "        r = rui.data.numpy()\n",
    "        r_pred = rui_pred.data.numpy()\n",
    "        rmse = np.sqrt(mean_squared_error(r, r_pred))\n",
    "        mae = mean_absolute_error(r, r_pred)\n",
    "        \n",
    "        # 返回\n",
    "        return rmse, mae"
   ]
  },
  {
   "cell_type": "markdown",
   "metadata": {},
   "source": [
    "### 一些实验心得\n",
    "改进时间性能非常重要，否则可能相差几十上百倍的时间  \n",
    "1. 划分batch：划分成一定大小的batch后，如果仍依次遍历一个batch中的样本，对时间没有任何改进。而应该利用矩阵或者向量的方式，同时对一个batch中的所有样本进行计算。  \n",
    "2. 尽量减少对df文件的遍历：实验中df文件有十万行，以计算评分均值mu为例，入股遍历df每一行求评分和，将会十分缓慢。相反，可以直接用df['rating:float'].sum()相当快速求和。\n",
    "3. 尽量减少对评分矩阵的遍历：实验中评分矩阵维度为(944, 1683)，需要遍历158万个数据，非常缓慢。以计算RMSE指标为例，不能直接对944×1683的R_test矩阵调用mean_squared_error()，因为矩阵中只有20000个是测试数据，其它很多0是未评分的。如果遍历矩阵，判断rui是否为0，再累加计算RMSE，非常缓慢。为了改进时间复杂度，可以根据df_test文件获取测试数据的user和item编号矩阵，借鉴batch中的并行方式，构建只包含测试数据的评分矩阵，再直接调用mean_squared_error()。"
   ]
  },
  {
   "cell_type": "markdown",
   "metadata": {},
   "source": [
    "## 2. 运行与测试"
   ]
  },
  {
   "cell_type": "code",
   "execution_count": 3,
   "metadata": {},
   "outputs": [
    {
     "name": "stdout",
     "output_type": "stream",
     "text": [
      "n_P = 944, n_Q = 1683, mu = 3.5309\n",
      "\n",
      "start training......\n",
      "epoch 1：avg_loss = 1.2185;   RMSE =  1.0661, MAE = 0.8855\n",
      "epoch 2：avg_loss = 1.1078;   RMSE =  1.0270, MAE = 0.8397\n",
      "epoch 3：avg_loss = 1.0160;   RMSE =  0.9891, MAE = 0.7941\n",
      "epoch 4：avg_loss = 0.9328;   RMSE =  0.9600, MAE = 0.7640\n",
      "epoch 5：avg_loss = 0.8718;   RMSE =  0.9422, MAE = 0.7479\n",
      "epoch 6：avg_loss = 0.8281;   RMSE =  0.9311, MAE = 0.7379\n",
      "epoch 7：avg_loss = 0.7962;   RMSE =  0.9245, MAE = 0.7314\n",
      "epoch 8：avg_loss = 0.7724;   RMSE =  0.9206, MAE = 0.7274\n",
      "epoch 9：avg_loss = 0.7540;   RMSE =  0.9186, MAE = 0.7250\n",
      "epoch 10：avg_loss = 0.7393;   RMSE =  0.9177, MAE = 0.7235\n"
     ]
    }
   ],
   "source": [
    "# 读取ml-100k.inter评分文件并随机打乱\n",
    "inter = pd.read_csv('../dataset/ml-100k/ml-100k.inter', delimiter='\\t', engine='python')\n",
    "df = pd.DataFrame(inter)\n",
    "df = df.sample(frac=1).reset_index(drop=True)\n",
    "\n",
    "# 建立MF模型并训练测试\n",
    "mf = MF(lr=0.004, lmbda=0.05, embed_size=10, batch_size=2000)\n",
    "mf.preprocess(df, ratio_train=0.8)\n",
    "mf.train(epochs=10)"
   ]
  },
  {
   "cell_type": "code",
   "execution_count": null,
   "metadata": {
    "collapsed": true
   },
   "outputs": [],
   "source": []
  }
 ],
 "metadata": {
  "kernelspec": {
   "display_name": "pytorch",
   "language": "python",
   "name": "pytorch"
  },
  "language_info": {
   "codemirror_mode": {
    "name": "ipython",
    "version": 3
   },
   "file_extension": ".py",
   "mimetype": "text/x-python",
   "name": "python",
   "nbconvert_exporter": "python",
   "pygments_lexer": "ipython3",
   "version": "3.6.13"
  }
 },
 "nbformat": 4,
 "nbformat_minor": 2
}
